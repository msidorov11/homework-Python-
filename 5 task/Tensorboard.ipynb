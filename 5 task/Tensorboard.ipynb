{
  "nbformat": 4,
  "nbformat_minor": 0,
  "metadata": {
    "colab": {
      "name": "Tensorboard.ipynb",
      "provenance": []
    },
    "kernelspec": {
      "name": "python3",
      "display_name": "Python 3"
    },
    "language_info": {
      "name": "python"
    }
  },
  "cells": [
    {
      "cell_type": "code",
      "metadata": {
        "id": "WQ4fTlFWcALi"
      },
      "source": [
        "import tensorflow as tf\n",
        "from tensorflow import keras\n",
        "from time import time\n",
        "import numpy as np\n",
        "from tensorflow.python.keras.callbacks import TensorBoard"
      ],
      "execution_count": 12,
      "outputs": []
    },
    {
      "cell_type": "code",
      "metadata": {
        "id": "UTGjANlU9O3w"
      },
      "source": [
        "## https://tensorboard.dev/experiment/UaQxHoFoR8q3li7GL4Sr9w/"
      ],
      "execution_count": 15,
      "outputs": []
    },
    {
      "cell_type": "markdown",
      "metadata": {
        "id": "nUvWNhO9I5e_"
      },
      "source": [
        "**Program without param turnings**"
      ]
    },
    {
      "cell_type": "markdown",
      "metadata": {
        "id": "lq9NfGuKPEVa"
      },
      "source": [
        "Сделал отдельную программу для себя, чтобы разобраться, как работает Tensorboard"
      ]
    },
    {
      "cell_type": "code",
      "metadata": {
        "colab": {
          "base_uri": "https://localhost:8080/"
        },
        "id": "GZeRBKx2cJQ6",
        "outputId": "0f3eee8e-a849-414b-f8ab-0bbccc6eedd1"
      },
      "source": [
        "(train_img, train_lab), (test_img, test_lab) = keras.datasets.fashion_mnist.load_data()\n",
        "\n",
        "train_img = train_img/255.0\n",
        "test_img = test_img/255.0\n",
        "\n",
        "model = keras.Sequential([keras.layers.Flatten(input_shape = (28, 28)), \n",
        "                            keras.layers.Dense(128, activation = tf.nn.relu), \n",
        "                            keras.layers.Dense(10, activation = tf.nn.softmax)])\n",
        "\n",
        "tb = TensorBoard(log_dir = \"logs/{}\".format(time()))\n",
        "\n",
        "model.compile(optimizer = tf.optimizers.Adam(), loss = 'sparse_categorical_crossentropy', metrics = ['accuracy'])\n",
        "model.fit(train_img, train_lab, epochs = 10, callbacks = [tb])\n",
        "\n",
        "test_loss, test_acc = model.evaluate(test_img, test_lab)\n",
        "\n",
        "print('accuracy', test_acc)"
      ],
      "execution_count": null,
      "outputs": [
        {
          "output_type": "stream",
          "name": "stdout",
          "text": [
            "Downloading data from https://storage.googleapis.com/tensorflow/tf-keras-datasets/train-labels-idx1-ubyte.gz\n",
            "32768/29515 [=================================] - 0s 0us/step\n",
            "40960/29515 [=========================================] - 0s 0us/step\n",
            "Downloading data from https://storage.googleapis.com/tensorflow/tf-keras-datasets/train-images-idx3-ubyte.gz\n",
            "26427392/26421880 [==============================] - 0s 0us/step\n",
            "26435584/26421880 [==============================] - 0s 0us/step\n",
            "Downloading data from https://storage.googleapis.com/tensorflow/tf-keras-datasets/t10k-labels-idx1-ubyte.gz\n",
            "16384/5148 [===============================================================================================] - 0s 0us/step\n",
            "Downloading data from https://storage.googleapis.com/tensorflow/tf-keras-datasets/t10k-images-idx3-ubyte.gz\n",
            "4423680/4422102 [==============================] - 0s 0us/step\n",
            "4431872/4422102 [==============================] - 0s 0us/step\n",
            "Epoch 1/10\n",
            "1875/1875 [==============================] - 6s 3ms/step - loss: 0.5031 - accuracy: 0.8227\n",
            "Epoch 2/10\n",
            "1875/1875 [==============================] - 5s 3ms/step - loss: 0.3776 - accuracy: 0.8629\n",
            "Epoch 3/10\n",
            "1875/1875 [==============================] - 5s 3ms/step - loss: 0.3400 - accuracy: 0.8759\n",
            "Epoch 4/10\n",
            "1875/1875 [==============================] - 4s 2ms/step - loss: 0.3158 - accuracy: 0.8837\n",
            "Epoch 5/10\n",
            "1875/1875 [==============================] - 4s 2ms/step - loss: 0.2960 - accuracy: 0.8906\n",
            "Epoch 6/10\n",
            "1875/1875 [==============================] - 5s 2ms/step - loss: 0.2833 - accuracy: 0.8957\n",
            "Epoch 7/10\n",
            "1875/1875 [==============================] - 5s 3ms/step - loss: 0.2693 - accuracy: 0.9002\n",
            "Epoch 8/10\n",
            "1875/1875 [==============================] - 4s 2ms/step - loss: 0.2586 - accuracy: 0.9036\n",
            "Epoch 9/10\n",
            "1875/1875 [==============================] - 5s 2ms/step - loss: 0.2470 - accuracy: 0.9084\n",
            "Epoch 10/10\n",
            "1875/1875 [==============================] - 5s 3ms/step - loss: 0.2402 - accuracy: 0.9101\n",
            "313/313 [==============================] - 1s 2ms/step - loss: 0.3412 - accuracy: 0.8836\n",
            "accuracy 0.8835999965667725\n"
          ]
        }
      ]
    },
    {
      "cell_type": "code",
      "metadata": {
        "id": "Nolo8yZrGigj"
      },
      "source": [
        "'''\n",
        "create 'log' folder on the Desktop, \n",
        "pass events.out and write command in terminal: \n",
        "python3 -m tensorboard.main --logdir=log\n",
        "'''"
      ],
      "execution_count": null,
      "outputs": []
    },
    {
      "cell_type": "code",
      "metadata": {
        "id": "hRLtsph7Gio9"
      },
      "source": [
        ""
      ],
      "execution_count": null,
      "outputs": []
    },
    {
      "cell_type": "markdown",
      "metadata": {
        "id": "8RY_esECJVCW"
      },
      "source": [
        "**Program with turnings num_units, dropout, optimizer**"
      ]
    },
    {
      "cell_type": "code",
      "metadata": {
        "colab": {
          "base_uri": "https://localhost:8080/"
        },
        "id": "-N0d0LNf9OwB",
        "outputId": "a8dc5afe-ef00-48c4-8977-a6463b1a9a75"
      },
      "source": [
        "import tensorflow as tf\n",
        "from tensorboard.plugins.hparams import api as hp\n",
        "\n",
        "fashion_mnist = tf.keras.datasets.fashion_mnist\n",
        "\n",
        "(x_train, y_train),(x_test, y_test) = fashion_mnist.load_data()\n",
        "x_train, x_test = x_train / 255.0, x_test / 255.0\n",
        "\n",
        "HP_NUM_UNITS = hp.HParam('num_units', hp.Discrete([16, 32]))\n",
        "HP_DROPOUT = hp.HParam('dropout', hp.RealInterval(0.1, 0.2))\n",
        "HP_OPTIMIZER = hp.HParam('optimizer', hp.Discrete(['adam', 'sgd']))\n",
        "\n",
        "METRIC_ACCURACY = 'accuracy'\n",
        "\n",
        "with tf.summary.create_file_writer('logs/hparam_tuning').as_default():\n",
        "  hp.hparams_config(\n",
        "    hparams=[HP_NUM_UNITS, HP_DROPOUT, HP_OPTIMIZER],\n",
        "    metrics=[hp.Metric(METRIC_ACCURACY, display_name='Accuracy')],\n",
        "  )\n",
        "\n",
        "def train_test_model(hparams):\n",
        "    model = tf.keras.models.Sequential([\n",
        "    tf.keras.layers.Flatten(),\n",
        "    tf.keras.layers.Dense(hparams[HP_NUM_UNITS], activation=tf.nn.relu),\n",
        "    tf.keras.layers.Dropout(hparams[HP_DROPOUT]),\n",
        "    tf.keras.layers.Dense(10, activation=tf.nn.softmax),\n",
        "    ])\n",
        "    model.compile(\n",
        "        optimizer=hparams[HP_OPTIMIZER],\n",
        "        loss='sparse_categorical_crossentropy',\n",
        "        metrics=['accuracy'],\n",
        "    )\n",
        "\n",
        "    model.fit(x_train, y_train, epochs=1) \n",
        "    _, accuracy = model.evaluate(x_test, y_test)\n",
        "    return accuracy\n",
        "\n",
        "def run(run_dir, hparams):\n",
        "    with tf.summary.create_file_writer(run_dir).as_default():\n",
        "        hp.hparams(hparams)  \n",
        "        accuracy = train_test_model(hparams)\n",
        "        tf.summary.scalar(METRIC_ACCURACY, accuracy, step=1)\n",
        "\n",
        "session_num = 0\n",
        "\n",
        "for num_units in HP_NUM_UNITS.domain.values:\n",
        "  for dropout_rate in (HP_DROPOUT.domain.min_value, HP_DROPOUT.domain.max_value):\n",
        "    for optimizer in HP_OPTIMIZER.domain.values:\n",
        "      hparams = {\n",
        "          HP_NUM_UNITS: num_units,\n",
        "          HP_DROPOUT: dropout_rate,\n",
        "          HP_OPTIMIZER: optimizer,\n",
        "      }\n",
        "      run_name = \"run-%d\" % session_num\n",
        "      print('--- Starting trial: %s' % run_name)\n",
        "      print({h.name: hparams[h] for h in hparams})\n",
        "      run('logs/hparam_tuning/' + run_name, hparams)\n",
        "      session_num += 1"
      ],
      "execution_count": 23,
      "outputs": [
        {
          "output_type": "stream",
          "name": "stdout",
          "text": [
            "--- Starting trial: run-0\n",
            "{'num_units': 16, 'dropout': 0.1, 'optimizer': 'adam'}\n",
            "1875/1875 [==============================] - 4s 2ms/step - loss: 0.6654 - accuracy: 0.7716\n",
            "313/313 [==============================] - 1s 1ms/step - loss: 0.4842 - accuracy: 0.8296\n",
            "--- Starting trial: run-1\n",
            "{'num_units': 16, 'dropout': 0.1, 'optimizer': 'sgd'}\n",
            "1875/1875 [==============================] - 3s 2ms/step - loss: 1.0414 - accuracy: 0.6308\n",
            "313/313 [==============================] - 1s 1ms/step - loss: 0.6861 - accuracy: 0.7544\n",
            "--- Starting trial: run-2\n",
            "{'num_units': 16, 'dropout': 0.2, 'optimizer': 'adam'}\n",
            "1875/1875 [==============================] - 4s 2ms/step - loss: 0.7822 - accuracy: 0.7231\n",
            "313/313 [==============================] - 1s 1ms/step - loss: 0.5212 - accuracy: 0.8132\n",
            "--- Starting trial: run-3\n",
            "{'num_units': 16, 'dropout': 0.2, 'optimizer': 'sgd'}\n",
            "1875/1875 [==============================] - 3s 2ms/step - loss: 1.0150 - accuracy: 0.6464\n",
            "313/313 [==============================] - 1s 1ms/step - loss: 0.6701 - accuracy: 0.7681\n",
            "--- Starting trial: run-4\n",
            "{'num_units': 32, 'dropout': 0.1, 'optimizer': 'adam'}\n",
            "1875/1875 [==============================] - 4s 2ms/step - loss: 0.6058 - accuracy: 0.7882\n",
            "313/313 [==============================] - 1s 1ms/step - loss: 0.4735 - accuracy: 0.8318\n",
            "--- Starting trial: run-5\n",
            "{'num_units': 32, 'dropout': 0.1, 'optimizer': 'sgd'}\n",
            "1875/1875 [==============================] - 4s 2ms/step - loss: 0.8531 - accuracy: 0.7148\n",
            "313/313 [==============================] - 1s 1ms/step - loss: 0.6056 - accuracy: 0.7866\n",
            "--- Starting trial: run-6\n",
            "{'num_units': 32, 'dropout': 0.2, 'optimizer': 'adam'}\n",
            "1875/1875 [==============================] - 4s 2ms/step - loss: 0.6346 - accuracy: 0.7776\n",
            "313/313 [==============================] - 1s 1ms/step - loss: 0.4721 - accuracy: 0.8291\n",
            "--- Starting trial: run-7\n",
            "{'num_units': 32, 'dropout': 0.2, 'optimizer': 'sgd'}\n",
            "1875/1875 [==============================] - 3s 2ms/step - loss: 0.9638 - accuracy: 0.6701\n",
            "313/313 [==============================] - 1s 1ms/step - loss: 0.6401 - accuracy: 0.7867\n"
          ]
        }
      ]
    },
    {
      "cell_type": "code",
      "metadata": {
        "id": "gPMM6lKPcezu"
      },
      "source": [
        ""
      ],
      "execution_count": 16,
      "outputs": []
    },
    {
      "cell_type": "markdown",
      "metadata": {
        "id": "lde2EgW1KELm"
      },
      "source": [
        "Набор параметров указан в таблице hparams_table.csv, ниже представлена модель с оптимальными параметрами и рассчет ошибок на каждом эпохе на train выборке"
      ]
    },
    {
      "cell_type": "code",
      "metadata": {
        "id": "4yLAg9QyeSDw",
        "colab": {
          "base_uri": "https://localhost:8080/"
        },
        "outputId": "b9f5f3ad-e9d2-47ef-d846-cfde1bbc420b"
      },
      "source": [
        "import tensorflow as tf\n",
        "from tensorboard.plugins.hparams import api as hp\n",
        "\n",
        "fashion_mnist = tf.keras.datasets.fashion_mnist\n",
        "\n",
        "(x_train, y_train),(x_test, y_test) = fashion_mnist.load_data()\n",
        "x_train, x_test = x_train / 255.0, x_test / 255.0\n",
        "\n",
        "METRIC_ACCURACY = 'accuracy'\n",
        "\n",
        "model = tf.keras.models.Sequential([\n",
        "tf.keras.layers.Flatten(),\n",
        "tf.keras.layers.Dense(32.0, activation=tf.nn.relu),\n",
        "tf.keras.layers.Dropout(0.1),\n",
        "tf.keras.layers.Dense(10, activation=tf.nn.softmax),\n",
        "])\n",
        "model.compile(\n",
        "    optimizer='adam',\n",
        "    loss='sparse_categorical_crossentropy',\n",
        "    metrics=['accuracy'],\n",
        ")\n",
        "\n",
        "losses = []\n",
        "\n",
        "for i in range(10):\n",
        "  model.fit(x_train, y_train, epochs=1) \n",
        "  _, accuracy = model.evaluate(x_train, y_train)\n",
        "  losses.append(_)"
      ],
      "execution_count": 29,
      "outputs": [
        {
          "output_type": "stream",
          "name": "stdout",
          "text": [
            "1875/1875 [==============================] - 4s 2ms/step - loss: 0.6222 - accuracy: 0.7830\n",
            "1875/1875 [==============================] - 3s 1ms/step - loss: 0.4221 - accuracy: 0.8526\n",
            "1875/1875 [==============================] - 4s 2ms/step - loss: 0.4399 - accuracy: 0.8444\n",
            "1875/1875 [==============================] - 3s 1ms/step - loss: 0.3805 - accuracy: 0.8642\n",
            "1875/1875 [==============================] - 4s 2ms/step - loss: 0.4070 - accuracy: 0.8536\n",
            "1875/1875 [==============================] - 3s 1ms/step - loss: 0.3555 - accuracy: 0.8711\n",
            "1875/1875 [==============================] - 3s 2ms/step - loss: 0.3892 - accuracy: 0.8595\n",
            "1875/1875 [==============================] - 3s 1ms/step - loss: 0.3357 - accuracy: 0.8763\n",
            "1875/1875 [==============================] - 4s 2ms/step - loss: 0.3736 - accuracy: 0.8642\n",
            "1875/1875 [==============================] - 3s 1ms/step - loss: 0.3371 - accuracy: 0.8750\n",
            "1875/1875 [==============================] - 4s 2ms/step - loss: 0.3655 - accuracy: 0.8670\n",
            "1875/1875 [==============================] - 3s 1ms/step - loss: 0.3231 - accuracy: 0.8798\n",
            "1875/1875 [==============================] - 4s 2ms/step - loss: 0.3557 - accuracy: 0.8698\n",
            "1875/1875 [==============================] - 3s 1ms/step - loss: 0.3184 - accuracy: 0.8801\n",
            "1875/1875 [==============================] - 3s 2ms/step - loss: 0.3485 - accuracy: 0.8719\n",
            "1875/1875 [==============================] - 3s 1ms/step - loss: 0.3001 - accuracy: 0.8881\n",
            "1875/1875 [==============================] - 4s 2ms/step - loss: 0.3442 - accuracy: 0.8731\n",
            "1875/1875 [==============================] - 3s 1ms/step - loss: 0.2955 - accuracy: 0.8902\n",
            "1875/1875 [==============================] - 4s 2ms/step - loss: 0.3368 - accuracy: 0.8745\n",
            "1875/1875 [==============================] - 3s 1ms/step - loss: 0.3018 - accuracy: 0.8875\n"
          ]
        }
      ]
    },
    {
      "cell_type": "code",
      "metadata": {
        "id": "JWbSlRcCeU51",
        "colab": {
          "base_uri": "https://localhost:8080/"
        },
        "outputId": "196d9964-4456-4993-d4da-aefc7cdb7cb9"
      },
      "source": [
        "losses"
      ],
      "execution_count": 30,
      "outputs": [
        {
          "output_type": "execute_result",
          "data": {
            "text/plain": [
              "[0.42206519842147827,\n",
              " 0.38051554560661316,\n",
              " 0.35546502470970154,\n",
              " 0.33573856949806213,\n",
              " 0.3371143043041229,\n",
              " 0.3231034278869629,\n",
              " 0.3184434771537781,\n",
              " 0.3000716269016266,\n",
              " 0.2955131232738495,\n",
              " 0.3018425703048706]"
            ]
          },
          "metadata": {},
          "execution_count": 30
        }
      ]
    },
    {
      "cell_type": "code",
      "metadata": {
        "colab": {
          "base_uri": "https://localhost:8080/"
        },
        "id": "muPyyfZGO5Gg",
        "outputId": "46813092-c7f2-4b23-8365-4ef1b6058d62"
      },
      "source": [
        "model.evaluate(x_test, y_test)"
      ],
      "execution_count": 32,
      "outputs": [
        {
          "output_type": "stream",
          "name": "stdout",
          "text": [
            "313/313 [==============================] - 1s 2ms/step - loss: 0.3768 - accuracy: 0.8650\n"
          ]
        },
        {
          "output_type": "execute_result",
          "data": {
            "text/plain": [
              "[0.3767769932746887, 0.8650000095367432]"
            ]
          },
          "metadata": {},
          "execution_count": 32
        }
      ]
    },
    {
      "cell_type": "code",
      "metadata": {
        "colab": {
          "base_uri": "https://localhost:8080/"
        },
        "id": "7UmwWGBBRVjI",
        "outputId": "3e7615c7-0334-4d4a-9f77-47df73ecafbc"
      },
      "source": [
        "# pred and real values for first 20 test images\n",
        "\n",
        "for i in range(20):\n",
        "  pred = model.predict(x_test)[i]\n",
        "  print(list(pred).index(max(pred)), y_test[i])"
      ],
      "execution_count": 46,
      "outputs": [
        {
          "output_type": "stream",
          "name": "stdout",
          "text": [
            "9 9\n",
            "2 2\n",
            "1 1\n",
            "1 1\n",
            "6 6\n",
            "1 1\n",
            "4 4\n",
            "6 6\n",
            "5 5\n",
            "7 7\n",
            "4 4\n",
            "5 5\n",
            "5 7\n",
            "3 3\n",
            "4 4\n",
            "1 1\n",
            "2 2\n",
            "2 4\n",
            "8 8\n",
            "0 0\n"
          ]
        }
      ]
    },
    {
      "cell_type": "code",
      "metadata": {
        "id": "9i969uGJTT-o"
      },
      "source": [
        ""
      ],
      "execution_count": 46,
      "outputs": []
    },
    {
      "cell_type": "code",
      "metadata": {
        "id": "LdBeVQjYTzKw"
      },
      "source": [
        ""
      ],
      "execution_count": 46,
      "outputs": []
    },
    {
      "cell_type": "code",
      "metadata": {
        "id": "9a44fZi0T4gu"
      },
      "source": [
        ""
      ],
      "execution_count": null,
      "outputs": []
    }
  ]
}