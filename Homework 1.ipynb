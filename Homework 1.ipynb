{
 "cells": [
  {
   "cell_type": "code",
   "execution_count": 14,
   "metadata": {},
   "outputs": [
    {
     "name": "stderr",
     "output_type": "stream",
     "text": [
      "usage: ipykernel_launcher.py [-h] [--key KEY] [--val VAL]\n",
      "ipykernel_launcher.py: error: unrecognized arguments: -f /Users/mihailsidorov/Library/Jupyter/runtime/kernel-a382c7be-e718-46df-bd48-26f46199bbde.json\n"
     ]
    },
    {
     "ename": "SystemExit",
     "evalue": "2",
     "output_type": "error",
     "traceback": [
      "An exception has occurred, use %tb to see the full traceback.\n",
      "\u001b[0;31mSystemExit\u001b[0m\u001b[0;31m:\u001b[0m 2\n"
     ]
    }
   ],
   "source": [
    "import os\n",
    "import tempfile\n",
    "import json\n",
    "import argparse\n",
    "\n",
    "storage_path = os.path.join(tempfile.gettempdir(), 'storage.data')\n",
    "\n",
    "def get_data():\n",
    "    with open(storage_path, 'r') as f:\n",
    "        file = f.read()\n",
    "        return json.loads(file)\n",
    "\n",
    "def put_by_key_value(key, value):\n",
    "    data = get_data()\n",
    "    if key in data:\n",
    "        data[key].append(value)\n",
    "    else:\n",
    "        data[key] = [value]\n",
    "    with open(storage_path, 'w') as f:\n",
    "        f.write(json.dumps(data))\n",
    "\n",
    "def get_by_key(key):\n",
    "    data = get_data()\n",
    "    return data.get(key)\n",
    "\n",
    "def parsing():\n",
    "    parser = argparse.ArgumentParser()\n",
    "    parser.add_argument('--key')\n",
    "    parser.add_argument('--val')\n",
    "    args = parser.parse_args()\n",
    "    if args.key and args.val:\n",
    "        put_by_key_value(args.key, args.val)\n",
    "    if args.key:\n",
    "        get_by_key(args.key)\n",
    "\n",
    "if __name__ == '__main__':\n",
    "    parsing()"
   ]
  },
  {
   "cell_type": "code",
   "execution_count": null,
   "metadata": {},
   "outputs": [],
   "source": []
  }
 ],
 "metadata": {
  "kernelspec": {
   "display_name": "Python 3",
   "language": "python",
   "name": "python3"
  },
  "language_info": {
   "codemirror_mode": {
    "name": "ipython",
    "version": 3
   },
   "file_extension": ".py",
   "mimetype": "text/x-python",
   "name": "python",
   "nbconvert_exporter": "python",
   "pygments_lexer": "ipython3",
   "version": "3.8.5"
  }
 },
 "nbformat": 4,
 "nbformat_minor": 4
}
